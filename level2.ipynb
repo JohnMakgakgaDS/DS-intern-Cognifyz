{
  "cells": [
    {
      "cell_type": "markdown",
      "metadata": {
        "id": "view-in-github",
        "colab_type": "text"
      },
      "source": [
        "<a href=\"https://colab.research.google.com/github/JohnMakgakgaDS/DS-intern-Cognifyz/blob/main/level2.ipynb\" target=\"_parent\"><img src=\"https://colab.research.google.com/assets/colab-badge.svg\" alt=\"Open In Colab\"/></a>"
      ]
    },
    {
      "cell_type": "code",
      "execution_count": null,
      "id": "11a4925d",
      "metadata": {
        "id": "11a4925d"
      },
      "outputs": [],
      "source": [
        "#packages to be used as library"
      ]
    },
    {
      "cell_type": "code",
      "execution_count": null,
      "id": "4ef14c7b",
      "metadata": {
        "id": "4ef14c7b"
      },
      "outputs": [],
      "source": [
        "import pandas as pd\n",
        "import matplotlib.pyplot as mp\n",
        "import numpy as np\n"
      ]
    },
    {
      "cell_type": "code",
      "execution_count": null,
      "id": "9dab9a69",
      "metadata": {
        "id": "9dab9a69"
      },
      "outputs": [],
      "source": [
        "#import data"
      ]
    },
    {
      "cell_type": "code",
      "execution_count": null,
      "id": "b91a2cee",
      "metadata": {
        "id": "b91a2cee"
      },
      "outputs": [],
      "source": [
        "df=pd.read_csv('Dataset.csv')"
      ]
    },
    {
      "cell_type": "code",
      "execution_count": null,
      "id": "82aa6bf5",
      "metadata": {
        "id": "82aa6bf5"
      },
      "outputs": [],
      "source": [
        "#read first five rows of the columns"
      ]
    },
    {
      "cell_type": "code",
      "execution_count": null,
      "id": "55c31202",
      "metadata": {
        "id": "55c31202",
        "outputId": "028db6b3-b2c2-43e2-d5a7-5ed366c53035"
      },
      "outputs": [
        {
          "data": {
            "text/html": [
              "<div>\n",
              "<style scoped>\n",
              "    .dataframe tbody tr th:only-of-type {\n",
              "        vertical-align: middle;\n",
              "    }\n",
              "\n",
              "    .dataframe tbody tr th {\n",
              "        vertical-align: top;\n",
              "    }\n",
              "\n",
              "    .dataframe thead th {\n",
              "        text-align: right;\n",
              "    }\n",
              "</style>\n",
              "<table border=\"1\" class=\"dataframe\">\n",
              "  <thead>\n",
              "    <tr style=\"text-align: right;\">\n",
              "      <th></th>\n",
              "      <th>Restaurant ID</th>\n",
              "      <th>Restaurant Name</th>\n",
              "      <th>Country Code</th>\n",
              "      <th>City</th>\n",
              "      <th>Address</th>\n",
              "      <th>Locality</th>\n",
              "      <th>Locality Verbose</th>\n",
              "      <th>Longitude</th>\n",
              "      <th>Latitude</th>\n",
              "      <th>Cuisines</th>\n",
              "      <th>...</th>\n",
              "      <th>Currency</th>\n",
              "      <th>Has Table booking</th>\n",
              "      <th>Has Online delivery</th>\n",
              "      <th>Is delivering now</th>\n",
              "      <th>Switch to order menu</th>\n",
              "      <th>Price range</th>\n",
              "      <th>Aggregate rating</th>\n",
              "      <th>Rating color</th>\n",
              "      <th>Rating text</th>\n",
              "      <th>Votes</th>\n",
              "    </tr>\n",
              "  </thead>\n",
              "  <tbody>\n",
              "    <tr>\n",
              "      <th>0</th>\n",
              "      <td>6317637</td>\n",
              "      <td>Le Petit Souffle</td>\n",
              "      <td>162</td>\n",
              "      <td>Makati City</td>\n",
              "      <td>Third Floor, Century City Mall, Kalayaan Avenu...</td>\n",
              "      <td>Century City Mall, Poblacion, Makati City</td>\n",
              "      <td>Century City Mall, Poblacion, Makati City, Mak...</td>\n",
              "      <td>121.027535</td>\n",
              "      <td>14.565443</td>\n",
              "      <td>French, Japanese, Desserts</td>\n",
              "      <td>...</td>\n",
              "      <td>Botswana Pula(P)</td>\n",
              "      <td>Yes</td>\n",
              "      <td>No</td>\n",
              "      <td>No</td>\n",
              "      <td>No</td>\n",
              "      <td>3</td>\n",
              "      <td>4.8</td>\n",
              "      <td>Dark Green</td>\n",
              "      <td>Excellent</td>\n",
              "      <td>314</td>\n",
              "    </tr>\n",
              "    <tr>\n",
              "      <th>1</th>\n",
              "      <td>6304287</td>\n",
              "      <td>Izakaya Kikufuji</td>\n",
              "      <td>162</td>\n",
              "      <td>Makati City</td>\n",
              "      <td>Little Tokyo, 2277 Chino Roces Avenue, Legaspi...</td>\n",
              "      <td>Little Tokyo, Legaspi Village, Makati City</td>\n",
              "      <td>Little Tokyo, Legaspi Village, Makati City, Ma...</td>\n",
              "      <td>121.014101</td>\n",
              "      <td>14.553708</td>\n",
              "      <td>Japanese</td>\n",
              "      <td>...</td>\n",
              "      <td>Botswana Pula(P)</td>\n",
              "      <td>Yes</td>\n",
              "      <td>No</td>\n",
              "      <td>No</td>\n",
              "      <td>No</td>\n",
              "      <td>3</td>\n",
              "      <td>4.5</td>\n",
              "      <td>Dark Green</td>\n",
              "      <td>Excellent</td>\n",
              "      <td>591</td>\n",
              "    </tr>\n",
              "    <tr>\n",
              "      <th>2</th>\n",
              "      <td>6300002</td>\n",
              "      <td>Heat - Edsa Shangri-La</td>\n",
              "      <td>162</td>\n",
              "      <td>Mandaluyong City</td>\n",
              "      <td>Edsa Shangri-La, 1 Garden Way, Ortigas, Mandal...</td>\n",
              "      <td>Edsa Shangri-La, Ortigas, Mandaluyong City</td>\n",
              "      <td>Edsa Shangri-La, Ortigas, Mandaluyong City, Ma...</td>\n",
              "      <td>121.056831</td>\n",
              "      <td>14.581404</td>\n",
              "      <td>Seafood, Asian, Filipino, Indian</td>\n",
              "      <td>...</td>\n",
              "      <td>Botswana Pula(P)</td>\n",
              "      <td>Yes</td>\n",
              "      <td>No</td>\n",
              "      <td>No</td>\n",
              "      <td>No</td>\n",
              "      <td>4</td>\n",
              "      <td>4.4</td>\n",
              "      <td>Green</td>\n",
              "      <td>Very Good</td>\n",
              "      <td>270</td>\n",
              "    </tr>\n",
              "    <tr>\n",
              "      <th>3</th>\n",
              "      <td>6318506</td>\n",
              "      <td>Ooma</td>\n",
              "      <td>162</td>\n",
              "      <td>Mandaluyong City</td>\n",
              "      <td>Third Floor, Mega Fashion Hall, SM Megamall, O...</td>\n",
              "      <td>SM Megamall, Ortigas, Mandaluyong City</td>\n",
              "      <td>SM Megamall, Ortigas, Mandaluyong City, Mandal...</td>\n",
              "      <td>121.056475</td>\n",
              "      <td>14.585318</td>\n",
              "      <td>Japanese, Sushi</td>\n",
              "      <td>...</td>\n",
              "      <td>Botswana Pula(P)</td>\n",
              "      <td>No</td>\n",
              "      <td>No</td>\n",
              "      <td>No</td>\n",
              "      <td>No</td>\n",
              "      <td>4</td>\n",
              "      <td>4.9</td>\n",
              "      <td>Dark Green</td>\n",
              "      <td>Excellent</td>\n",
              "      <td>365</td>\n",
              "    </tr>\n",
              "    <tr>\n",
              "      <th>4</th>\n",
              "      <td>6314302</td>\n",
              "      <td>Sambo Kojin</td>\n",
              "      <td>162</td>\n",
              "      <td>Mandaluyong City</td>\n",
              "      <td>Third Floor, Mega Atrium, SM Megamall, Ortigas...</td>\n",
              "      <td>SM Megamall, Ortigas, Mandaluyong City</td>\n",
              "      <td>SM Megamall, Ortigas, Mandaluyong City, Mandal...</td>\n",
              "      <td>121.057508</td>\n",
              "      <td>14.584450</td>\n",
              "      <td>Japanese, Korean</td>\n",
              "      <td>...</td>\n",
              "      <td>Botswana Pula(P)</td>\n",
              "      <td>Yes</td>\n",
              "      <td>No</td>\n",
              "      <td>No</td>\n",
              "      <td>No</td>\n",
              "      <td>4</td>\n",
              "      <td>4.8</td>\n",
              "      <td>Dark Green</td>\n",
              "      <td>Excellent</td>\n",
              "      <td>229</td>\n",
              "    </tr>\n",
              "  </tbody>\n",
              "</table>\n",
              "<p>5 rows × 21 columns</p>\n",
              "</div>"
            ],
            "text/plain": [
              "   Restaurant ID         Restaurant Name  Country Code              City  \\\n",
              "0        6317637        Le Petit Souffle           162       Makati City   \n",
              "1        6304287        Izakaya Kikufuji           162       Makati City   \n",
              "2        6300002  Heat - Edsa Shangri-La           162  Mandaluyong City   \n",
              "3        6318506                    Ooma           162  Mandaluyong City   \n",
              "4        6314302             Sambo Kojin           162  Mandaluyong City   \n",
              "\n",
              "                                             Address  \\\n",
              "0  Third Floor, Century City Mall, Kalayaan Avenu...   \n",
              "1  Little Tokyo, 2277 Chino Roces Avenue, Legaspi...   \n",
              "2  Edsa Shangri-La, 1 Garden Way, Ortigas, Mandal...   \n",
              "3  Third Floor, Mega Fashion Hall, SM Megamall, O...   \n",
              "4  Third Floor, Mega Atrium, SM Megamall, Ortigas...   \n",
              "\n",
              "                                     Locality  \\\n",
              "0   Century City Mall, Poblacion, Makati City   \n",
              "1  Little Tokyo, Legaspi Village, Makati City   \n",
              "2  Edsa Shangri-La, Ortigas, Mandaluyong City   \n",
              "3      SM Megamall, Ortigas, Mandaluyong City   \n",
              "4      SM Megamall, Ortigas, Mandaluyong City   \n",
              "\n",
              "                                    Locality Verbose   Longitude   Latitude  \\\n",
              "0  Century City Mall, Poblacion, Makati City, Mak...  121.027535  14.565443   \n",
              "1  Little Tokyo, Legaspi Village, Makati City, Ma...  121.014101  14.553708   \n",
              "2  Edsa Shangri-La, Ortigas, Mandaluyong City, Ma...  121.056831  14.581404   \n",
              "3  SM Megamall, Ortigas, Mandaluyong City, Mandal...  121.056475  14.585318   \n",
              "4  SM Megamall, Ortigas, Mandaluyong City, Mandal...  121.057508  14.584450   \n",
              "\n",
              "                           Cuisines  ...          Currency Has Table booking  \\\n",
              "0        French, Japanese, Desserts  ...  Botswana Pula(P)               Yes   \n",
              "1                          Japanese  ...  Botswana Pula(P)               Yes   \n",
              "2  Seafood, Asian, Filipino, Indian  ...  Botswana Pula(P)               Yes   \n",
              "3                   Japanese, Sushi  ...  Botswana Pula(P)                No   \n",
              "4                  Japanese, Korean  ...  Botswana Pula(P)               Yes   \n",
              "\n",
              "  Has Online delivery Is delivering now Switch to order menu Price range  \\\n",
              "0                  No                No                   No           3   \n",
              "1                  No                No                   No           3   \n",
              "2                  No                No                   No           4   \n",
              "3                  No                No                   No           4   \n",
              "4                  No                No                   No           4   \n",
              "\n",
              "   Aggregate rating  Rating color Rating text Votes  \n",
              "0               4.8    Dark Green   Excellent   314  \n",
              "1               4.5    Dark Green   Excellent   591  \n",
              "2               4.4         Green   Very Good   270  \n",
              "3               4.9    Dark Green   Excellent   365  \n",
              "4               4.8    Dark Green   Excellent   229  \n",
              "\n",
              "[5 rows x 21 columns]"
            ]
          },
          "execution_count": 6,
          "metadata": {},
          "output_type": "execute_result"
        }
      ],
      "source": [
        "df.head()"
      ]
    },
    {
      "cell_type": "code",
      "execution_count": null,
      "id": "e6dce70b",
      "metadata": {
        "id": "e6dce70b"
      },
      "outputs": [],
      "source": [
        "#show number of rows and columns"
      ]
    },
    {
      "cell_type": "code",
      "execution_count": null,
      "id": "90d26432",
      "metadata": {
        "id": "90d26432",
        "outputId": "71a9616f-17b9-407f-a6b3-4629048a611b"
      },
      "outputs": [
        {
          "data": {
            "text/plain": [
              "(9551, 21)"
            ]
          },
          "execution_count": 8,
          "metadata": {},
          "output_type": "execute_result"
        }
      ],
      "source": [
        "df.shape"
      ]
    },
    {
      "cell_type": "code",
      "execution_count": null,
      "id": "44a0f305",
      "metadata": {
        "id": "44a0f305"
      },
      "outputs": [],
      "source": [
        "#There are 9551 rows in the dataset\n",
        "#There are 21 columns in the dataset"
      ]
    },
    {
      "cell_type": "code",
      "execution_count": null,
      "id": "740c1670",
      "metadata": {
        "id": "740c1670"
      },
      "outputs": [],
      "source": [
        "#check missing values in each column"
      ]
    },
    {
      "cell_type": "code",
      "execution_count": null,
      "id": "8d39d33d",
      "metadata": {
        "id": "8d39d33d",
        "outputId": "8cc52556-22d2-486a-84df-8eeb7fcc90af"
      },
      "outputs": [
        {
          "data": {
            "text/plain": [
              "Restaurant ID           0\n",
              "Restaurant Name         0\n",
              "Country Code            0\n",
              "City                    0\n",
              "Address                 0\n",
              "Locality                0\n",
              "Locality Verbose        0\n",
              "Longitude               0\n",
              "Latitude                0\n",
              "Cuisines                9\n",
              "Average Cost for two    0\n",
              "Currency                0\n",
              "Has Table booking       0\n",
              "Has Online delivery     0\n",
              "Is delivering now       0\n",
              "Switch to order menu    0\n",
              "Price range             0\n",
              "Aggregate rating        0\n",
              "Rating color            0\n",
              "Rating text             0\n",
              "Votes                   0\n",
              "dtype: int64"
            ]
          },
          "execution_count": 11,
          "metadata": {},
          "output_type": "execute_result"
        }
      ],
      "source": [
        "df.isnull().sum()"
      ]
    },
    {
      "cell_type": "code",
      "execution_count": null,
      "id": "8723d2ac",
      "metadata": {
        "id": "8723d2ac"
      },
      "outputs": [],
      "source": [
        "# Fill missing values\n",
        "df['Cuisines'].fillna('Unknown', inplace=True)"
      ]
    },
    {
      "cell_type": "code",
      "execution_count": null,
      "id": "009ba813",
      "metadata": {
        "id": "009ba813",
        "outputId": "774baf7b-5ea2-4a19-ebad-c7e27a1a9755"
      },
      "outputs": [
        {
          "data": {
            "text/plain": [
              "Restaurant ID           0\n",
              "Restaurant Name         0\n",
              "Country Code            0\n",
              "City                    0\n",
              "Address                 0\n",
              "Locality                0\n",
              "Locality Verbose        0\n",
              "Longitude               0\n",
              "Latitude                0\n",
              "Cuisines                0\n",
              "Average Cost for two    0\n",
              "Currency                0\n",
              "Has Table booking       0\n",
              "Has Online delivery     0\n",
              "Is delivering now       0\n",
              "Switch to order menu    0\n",
              "Price range             0\n",
              "Aggregate rating        0\n",
              "Rating color            0\n",
              "Rating text             0\n",
              "Votes                   0\n",
              "dtype: int64"
            ]
          },
          "execution_count": 13,
          "metadata": {},
          "output_type": "execute_result"
        }
      ],
      "source": [
        "#checking for validation\n",
        "df.isnull().sum()"
      ]
    },
    {
      "cell_type": "markdown",
      "id": "323e96af",
      "metadata": {
        "id": "323e96af"
      },
      "source": [
        "# LEVE 2 Task1: Table Booking and Online Delivery\n"
      ]
    },
    {
      "cell_type": "markdown",
      "id": "0e80b729",
      "metadata": {
        "id": "0e80b729"
      },
      "source": [
        "1 .Determine the percentage of restaurants that offer table booking and online delivery.\n",
        "2 .Compare the average ratings of restaurants with table booking and those without.\n",
        "3 .Analyze the availability of online delivery among restaurants with different price ranges."
      ]
    },
    {
      "cell_type": "code",
      "execution_count": null,
      "id": "4d7d3ddd",
      "metadata": {
        "id": "4d7d3ddd",
        "outputId": "e8146a5c-4363-49c7-80fd-9c4c034befca"
      },
      "outputs": [
        {
          "data": {
            "text/plain": [
              "No     8393\n",
              "Yes    1158\n",
              "Name: Has Table booking, dtype: int64"
            ]
          },
          "execution_count": 14,
          "metadata": {},
          "output_type": "execute_result"
        }
      ],
      "source": [
        "df['Has Table booking'].value_counts()"
      ]
    },
    {
      "cell_type": "code",
      "execution_count": null,
      "id": "37677c2a",
      "metadata": {
        "id": "37677c2a",
        "outputId": "d79c29e8-b06c-410b-e65a-cfc0e7c05c3c"
      },
      "outputs": [
        {
          "data": {
            "text/plain": [
              "12.124384881164275"
            ]
          },
          "execution_count": 15,
          "metadata": {},
          "output_type": "execute_result"
        }
      ],
      "source": [
        "1158/9551*100"
      ]
    },
    {
      "cell_type": "code",
      "execution_count": null,
      "id": "7fa81f0e",
      "metadata": {
        "id": "7fa81f0e"
      },
      "outputs": [],
      "source": [
        "#12.12 is the percentage of restaurants that offer table booking"
      ]
    },
    {
      "cell_type": "code",
      "execution_count": null,
      "id": "d5cf7eaf",
      "metadata": {
        "id": "d5cf7eaf",
        "outputId": "6b131bcb-bafb-45cb-b9bd-e3999a0786a3"
      },
      "outputs": [
        {
          "data": {
            "text/plain": [
              "No     7100\n",
              "Yes    2451\n",
              "Name: Has Online delivery, dtype: int64"
            ]
          },
          "execution_count": 17,
          "metadata": {},
          "output_type": "execute_result"
        }
      ],
      "source": [
        "df['Has Online delivery'].value_counts()"
      ]
    },
    {
      "cell_type": "code",
      "execution_count": null,
      "id": "b27c1045",
      "metadata": {
        "id": "b27c1045",
        "outputId": "5cd413a0-038e-4916-8e3e-480c0582ff80"
      },
      "outputs": [
        {
          "data": {
            "text/plain": [
              "25.662234321013504"
            ]
          },
          "execution_count": 18,
          "metadata": {},
          "output_type": "execute_result"
        }
      ],
      "source": [
        "2451/9551*100"
      ]
    },
    {
      "cell_type": "code",
      "execution_count": null,
      "id": "f3815e42",
      "metadata": {
        "id": "f3815e42"
      },
      "outputs": [],
      "source": [
        "#25.66% the percentage of restaurants that offer Online delivery"
      ]
    },
    {
      "cell_type": "code",
      "execution_count": null,
      "id": "84cb2c51",
      "metadata": {
        "id": "84cb2c51"
      },
      "outputs": [],
      "source": [
        "#Check columns attributes using slicing"
      ]
    },
    {
      "cell_type": "code",
      "execution_count": null,
      "id": "961eb698",
      "metadata": {
        "id": "961eb698",
        "outputId": "105c6961-4ad1-4fdc-d726-45322303d035"
      },
      "outputs": [
        {
          "data": {
            "text/html": [
              "<div>\n",
              "<style scoped>\n",
              "    .dataframe tbody tr th:only-of-type {\n",
              "        vertical-align: middle;\n",
              "    }\n",
              "\n",
              "    .dataframe tbody tr th {\n",
              "        vertical-align: top;\n",
              "    }\n",
              "\n",
              "    .dataframe thead th {\n",
              "        text-align: right;\n",
              "    }\n",
              "</style>\n",
              "<table border=\"1\" class=\"dataframe\">\n",
              "  <thead>\n",
              "    <tr style=\"text-align: right;\">\n",
              "      <th></th>\n",
              "      <th>Restaurant ID</th>\n",
              "      <th>Restaurant Name</th>\n",
              "      <th>Country Code</th>\n",
              "      <th>City</th>\n",
              "      <th>Address</th>\n",
              "      <th>Locality</th>\n",
              "      <th>Locality Verbose</th>\n",
              "      <th>Longitude</th>\n",
              "      <th>Latitude</th>\n",
              "      <th>Cuisines</th>\n",
              "    </tr>\n",
              "  </thead>\n",
              "  <tbody>\n",
              "    <tr>\n",
              "      <th>0</th>\n",
              "      <td>6317637</td>\n",
              "      <td>Le Petit Souffle</td>\n",
              "      <td>162</td>\n",
              "      <td>Makati City</td>\n",
              "      <td>Third Floor, Century City Mall, Kalayaan Avenu...</td>\n",
              "      <td>Century City Mall, Poblacion, Makati City</td>\n",
              "      <td>Century City Mall, Poblacion, Makati City, Mak...</td>\n",
              "      <td>121.027535</td>\n",
              "      <td>14.565443</td>\n",
              "      <td>French, Japanese, Desserts</td>\n",
              "    </tr>\n",
              "    <tr>\n",
              "      <th>1</th>\n",
              "      <td>6304287</td>\n",
              "      <td>Izakaya Kikufuji</td>\n",
              "      <td>162</td>\n",
              "      <td>Makati City</td>\n",
              "      <td>Little Tokyo, 2277 Chino Roces Avenue, Legaspi...</td>\n",
              "      <td>Little Tokyo, Legaspi Village, Makati City</td>\n",
              "      <td>Little Tokyo, Legaspi Village, Makati City, Ma...</td>\n",
              "      <td>121.014101</td>\n",
              "      <td>14.553708</td>\n",
              "      <td>Japanese</td>\n",
              "    </tr>\n",
              "    <tr>\n",
              "      <th>2</th>\n",
              "      <td>6300002</td>\n",
              "      <td>Heat - Edsa Shangri-La</td>\n",
              "      <td>162</td>\n",
              "      <td>Mandaluyong City</td>\n",
              "      <td>Edsa Shangri-La, 1 Garden Way, Ortigas, Mandal...</td>\n",
              "      <td>Edsa Shangri-La, Ortigas, Mandaluyong City</td>\n",
              "      <td>Edsa Shangri-La, Ortigas, Mandaluyong City, Ma...</td>\n",
              "      <td>121.056831</td>\n",
              "      <td>14.581404</td>\n",
              "      <td>Seafood, Asian, Filipino, Indian</td>\n",
              "    </tr>\n",
              "    <tr>\n",
              "      <th>3</th>\n",
              "      <td>6318506</td>\n",
              "      <td>Ooma</td>\n",
              "      <td>162</td>\n",
              "      <td>Mandaluyong City</td>\n",
              "      <td>Third Floor, Mega Fashion Hall, SM Megamall, O...</td>\n",
              "      <td>SM Megamall, Ortigas, Mandaluyong City</td>\n",
              "      <td>SM Megamall, Ortigas, Mandaluyong City, Mandal...</td>\n",
              "      <td>121.056475</td>\n",
              "      <td>14.585318</td>\n",
              "      <td>Japanese, Sushi</td>\n",
              "    </tr>\n",
              "    <tr>\n",
              "      <th>4</th>\n",
              "      <td>6314302</td>\n",
              "      <td>Sambo Kojin</td>\n",
              "      <td>162</td>\n",
              "      <td>Mandaluyong City</td>\n",
              "      <td>Third Floor, Mega Atrium, SM Megamall, Ortigas...</td>\n",
              "      <td>SM Megamall, Ortigas, Mandaluyong City</td>\n",
              "      <td>SM Megamall, Ortigas, Mandaluyong City, Mandal...</td>\n",
              "      <td>121.057508</td>\n",
              "      <td>14.584450</td>\n",
              "      <td>Japanese, Korean</td>\n",
              "    </tr>\n",
              "  </tbody>\n",
              "</table>\n",
              "</div>"
            ],
            "text/plain": [
              "   Restaurant ID         Restaurant Name  Country Code              City  \\\n",
              "0        6317637        Le Petit Souffle           162       Makati City   \n",
              "1        6304287        Izakaya Kikufuji           162       Makati City   \n",
              "2        6300002  Heat - Edsa Shangri-La           162  Mandaluyong City   \n",
              "3        6318506                    Ooma           162  Mandaluyong City   \n",
              "4        6314302             Sambo Kojin           162  Mandaluyong City   \n",
              "\n",
              "                                             Address  \\\n",
              "0  Third Floor, Century City Mall, Kalayaan Avenu...   \n",
              "1  Little Tokyo, 2277 Chino Roces Avenue, Legaspi...   \n",
              "2  Edsa Shangri-La, 1 Garden Way, Ortigas, Mandal...   \n",
              "3  Third Floor, Mega Fashion Hall, SM Megamall, O...   \n",
              "4  Third Floor, Mega Atrium, SM Megamall, Ortigas...   \n",
              "\n",
              "                                     Locality  \\\n",
              "0   Century City Mall, Poblacion, Makati City   \n",
              "1  Little Tokyo, Legaspi Village, Makati City   \n",
              "2  Edsa Shangri-La, Ortigas, Mandaluyong City   \n",
              "3      SM Megamall, Ortigas, Mandaluyong City   \n",
              "4      SM Megamall, Ortigas, Mandaluyong City   \n",
              "\n",
              "                                    Locality Verbose   Longitude   Latitude  \\\n",
              "0  Century City Mall, Poblacion, Makati City, Mak...  121.027535  14.565443   \n",
              "1  Little Tokyo, Legaspi Village, Makati City, Ma...  121.014101  14.553708   \n",
              "2  Edsa Shangri-La, Ortigas, Mandaluyong City, Ma...  121.056831  14.581404   \n",
              "3  SM Megamall, Ortigas, Mandaluyong City, Mandal...  121.056475  14.585318   \n",
              "4  SM Megamall, Ortigas, Mandaluyong City, Mandal...  121.057508  14.584450   \n",
              "\n",
              "                           Cuisines  \n",
              "0        French, Japanese, Desserts  \n",
              "1                          Japanese  \n",
              "2  Seafood, Asian, Filipino, Indian  \n",
              "3                   Japanese, Sushi  \n",
              "4                  Japanese, Korean  "
            ]
          },
          "execution_count": 21,
          "metadata": {},
          "output_type": "execute_result"
        }
      ],
      "source": [
        "df.iloc[0:5,0:10]"
      ]
    },
    {
      "cell_type": "code",
      "execution_count": null,
      "id": "69cd5891",
      "metadata": {
        "id": "69cd5891",
        "outputId": "bd3a408a-4412-4cfa-bceb-19f358adc664"
      },
      "outputs": [
        {
          "data": {
            "text/html": [
              "<div>\n",
              "<style scoped>\n",
              "    .dataframe tbody tr th:only-of-type {\n",
              "        vertical-align: middle;\n",
              "    }\n",
              "\n",
              "    .dataframe tbody tr th {\n",
              "        vertical-align: top;\n",
              "    }\n",
              "\n",
              "    .dataframe thead th {\n",
              "        text-align: right;\n",
              "    }\n",
              "</style>\n",
              "<table border=\"1\" class=\"dataframe\">\n",
              "  <thead>\n",
              "    <tr style=\"text-align: right;\">\n",
              "      <th></th>\n",
              "      <th>Average Cost for two</th>\n",
              "      <th>Currency</th>\n",
              "      <th>Has Table booking</th>\n",
              "      <th>Has Online delivery</th>\n",
              "      <th>Is delivering now</th>\n",
              "      <th>Switch to order menu</th>\n",
              "      <th>Price range</th>\n",
              "      <th>Aggregate rating</th>\n",
              "      <th>Rating color</th>\n",
              "      <th>Rating text</th>\n",
              "      <th>Votes</th>\n",
              "    </tr>\n",
              "  </thead>\n",
              "  <tbody>\n",
              "    <tr>\n",
              "      <th>0</th>\n",
              "      <td>1100</td>\n",
              "      <td>Botswana Pula(P)</td>\n",
              "      <td>Yes</td>\n",
              "      <td>No</td>\n",
              "      <td>No</td>\n",
              "      <td>No</td>\n",
              "      <td>3</td>\n",
              "      <td>4.8</td>\n",
              "      <td>Dark Green</td>\n",
              "      <td>Excellent</td>\n",
              "      <td>314</td>\n",
              "    </tr>\n",
              "    <tr>\n",
              "      <th>1</th>\n",
              "      <td>1200</td>\n",
              "      <td>Botswana Pula(P)</td>\n",
              "      <td>Yes</td>\n",
              "      <td>No</td>\n",
              "      <td>No</td>\n",
              "      <td>No</td>\n",
              "      <td>3</td>\n",
              "      <td>4.5</td>\n",
              "      <td>Dark Green</td>\n",
              "      <td>Excellent</td>\n",
              "      <td>591</td>\n",
              "    </tr>\n",
              "    <tr>\n",
              "      <th>2</th>\n",
              "      <td>4000</td>\n",
              "      <td>Botswana Pula(P)</td>\n",
              "      <td>Yes</td>\n",
              "      <td>No</td>\n",
              "      <td>No</td>\n",
              "      <td>No</td>\n",
              "      <td>4</td>\n",
              "      <td>4.4</td>\n",
              "      <td>Green</td>\n",
              "      <td>Very Good</td>\n",
              "      <td>270</td>\n",
              "    </tr>\n",
              "    <tr>\n",
              "      <th>3</th>\n",
              "      <td>1500</td>\n",
              "      <td>Botswana Pula(P)</td>\n",
              "      <td>No</td>\n",
              "      <td>No</td>\n",
              "      <td>No</td>\n",
              "      <td>No</td>\n",
              "      <td>4</td>\n",
              "      <td>4.9</td>\n",
              "      <td>Dark Green</td>\n",
              "      <td>Excellent</td>\n",
              "      <td>365</td>\n",
              "    </tr>\n",
              "    <tr>\n",
              "      <th>4</th>\n",
              "      <td>1500</td>\n",
              "      <td>Botswana Pula(P)</td>\n",
              "      <td>Yes</td>\n",
              "      <td>No</td>\n",
              "      <td>No</td>\n",
              "      <td>No</td>\n",
              "      <td>4</td>\n",
              "      <td>4.8</td>\n",
              "      <td>Dark Green</td>\n",
              "      <td>Excellent</td>\n",
              "      <td>229</td>\n",
              "    </tr>\n",
              "  </tbody>\n",
              "</table>\n",
              "</div>"
            ],
            "text/plain": [
              "   Average Cost for two          Currency Has Table booking  \\\n",
              "0                  1100  Botswana Pula(P)               Yes   \n",
              "1                  1200  Botswana Pula(P)               Yes   \n",
              "2                  4000  Botswana Pula(P)               Yes   \n",
              "3                  1500  Botswana Pula(P)                No   \n",
              "4                  1500  Botswana Pula(P)               Yes   \n",
              "\n",
              "  Has Online delivery Is delivering now Switch to order menu  Price range  \\\n",
              "0                  No                No                   No            3   \n",
              "1                  No                No                   No            3   \n",
              "2                  No                No                   No            4   \n",
              "3                  No                No                   No            4   \n",
              "4                  No                No                   No            4   \n",
              "\n",
              "   Aggregate rating Rating color Rating text  Votes  \n",
              "0               4.8   Dark Green   Excellent    314  \n",
              "1               4.5   Dark Green   Excellent    591  \n",
              "2               4.4        Green   Very Good    270  \n",
              "3               4.9   Dark Green   Excellent    365  \n",
              "4               4.8   Dark Green   Excellent    229  "
            ]
          },
          "execution_count": 22,
          "metadata": {},
          "output_type": "execute_result"
        }
      ],
      "source": [
        "df.iloc[0:5,10:21]"
      ]
    },
    {
      "cell_type": "code",
      "execution_count": null,
      "id": "6e2b1588",
      "metadata": {
        "id": "6e2b1588"
      },
      "outputs": [],
      "source": [
        "#find values of average ratings of restaurants with table booking"
      ]
    },
    {
      "cell_type": "code",
      "execution_count": null,
      "id": "c017dbb1",
      "metadata": {
        "id": "c017dbb1",
        "outputId": "ad7610a2-573c-4dfc-8437-c8365ab8c105"
      },
      "outputs": [
        {
          "data": {
            "text/plain": [
              "0       4.8\n",
              "1       4.5\n",
              "2       4.4\n",
              "4       4.8\n",
              "6       4.0\n",
              "       ... \n",
              "9403    4.3\n",
              "9415    4.2\n",
              "9431    4.7\n",
              "9450    4.0\n",
              "9463    4.2\n",
              "Name: Aggregate rating, Length: 1158, dtype: float64"
            ]
          },
          "execution_count": 24,
          "metadata": {},
          "output_type": "execute_result"
        }
      ],
      "source": [
        "table_booking_yes=df[df['Has Table booking'] == 'Yes']['Aggregate rating']\n",
        "table_booking_yes"
      ]
    },
    {
      "cell_type": "code",
      "execution_count": null,
      "id": "328205ed",
      "metadata": {
        "id": "328205ed"
      },
      "outputs": [],
      "source": [
        "#find values of average ratings of restaurants without table booking"
      ]
    },
    {
      "cell_type": "code",
      "execution_count": null,
      "id": "9d39454a",
      "metadata": {
        "id": "9d39454a",
        "outputId": "fd713f47-70ab-49d6-da0b-353e26f19cf3"
      },
      "outputs": [
        {
          "data": {
            "text/plain": [
              "3       4.9\n",
              "5       4.4\n",
              "10      4.9\n",
              "12      4.8\n",
              "14      4.3\n",
              "       ... \n",
              "9546    4.1\n",
              "9547    4.2\n",
              "9548    3.7\n",
              "9549    4.0\n",
              "9550    4.0\n",
              "Name: Aggregate rating, Length: 8393, dtype: float64"
            ]
          },
          "execution_count": 26,
          "metadata": {},
          "output_type": "execute_result"
        }
      ],
      "source": [
        "table_booking_no=df[df['Has Table booking'] == 'No']['Aggregate rating']\n",
        "table_booking_no"
      ]
    },
    {
      "cell_type": "code",
      "execution_count": null,
      "id": "adcb082a",
      "metadata": {
        "id": "adcb082a"
      },
      "outputs": [],
      "source": [
        "#coparing average ratings"
      ]
    },
    {
      "cell_type": "code",
      "execution_count": null,
      "id": "6cbeb74c",
      "metadata": {
        "id": "6cbeb74c",
        "outputId": "eeb84ded-791f-42f8-ddbc-d4d683970711"
      },
      "outputs": [
        {
          "data": {
            "image/png": "[encoded data removed]",
            "text/plain": [
              "<Figure size 720x504 with 1 Axes>"
            ]
          },
          "metadata": {
            "needs_background": "light"
          },
          "output_type": "display_data"
        }
      ],
      "source": [
        "mp.figure(figsize=(10,7))\n",
        "mp.boxplot([table_booking_yes,table_booking_no],labels=['Table booking is yes','table booking is no'])\n",
        "mp.ylabel('Average Rating')\n",
        "mp.title('Comparing the average ratings of restaurantswith table booking and those without.')\n",
        "mp.show()\n"
      ]
    },
    {
      "cell_type": "code",
      "execution_count": null,
      "id": "c562f19e",
      "metadata": {
        "id": "c562f19e"
      },
      "outputs": [],
      "source": [
        "#Analyze the availability of online delivery among restaurants with different price ranges."
      ]
    },
    {
      "cell_type": "code",
      "execution_count": null,
      "id": "3d7353ea",
      "metadata": {
        "id": "3d7353ea",
        "outputId": "65706cc4-ffb7-4dd3-d400-6a94fb6dfab0"
      },
      "outputs": [
        {
          "data": {
            "text/plain": [
              "array([3, 4, 2, 1])"
            ]
          },
          "execution_count": 30,
          "metadata": {},
          "output_type": "execute_result"
        }
      ],
      "source": [
        "range_prices=df['Price range'].unique()\n",
        "range_prices\n"
      ]
    },
    {
      "cell_type": "code",
      "execution_count": null,
      "id": "6c500474",
      "metadata": {
        "id": "6c500474"
      },
      "outputs": [],
      "source": [
        "ranges = np.array([1,2,3,4])"
      ]
    },
    {
      "cell_type": "code",
      "execution_count": null,
      "id": "66bf4c4f",
      "metadata": {
        "scrolled": true,
        "id": "66bf4c4f",
        "outputId": "8f42359a-c2e5-4c1b-e843-891dd31bb4ae"
      },
      "outputs": [
        {
          "name": "stdout",
          "output_type": "stream",
          "text": [
            "Availability of online delivery by price ranges:\n",
            "Price Range 1: 15.77%\n",
            "Price Range 2: 41.31%\n",
            "Price Range 3: 29.19%\n",
            "Price Range 4: 9.04%\n"
          ]
        }
      ],
      "source": [
        "delivery = {}\n",
        "\n",
        "# Loop through each price range\n",
        "for price_range in ranges:\n",
        "    # Calculate the percentage of restaurants with online delivery in the current price range\n",
        "    online_delivery_count = (df[df['Price range'] == price_range]['Has Online delivery'] == 'Yes')\n",
        "    delivery_rate = online_delivery_count.mean() * 100\n",
        "\n",
        "    # Store the result in the dictionary using the price range as the key\n",
        "    delivery[price_range] = delivery_rate\n",
        "\n",
        "# Print the availability of online delivery by price range\n",
        "print(\"Availability of online delivery by price ranges:\")\n",
        "for price_range, delivery_rate in delivery.items():\n",
        "    print(f\"Price Range {price_range}: {delivery_rate:.2f}%\")\n",
        "\n"
      ]
    },
    {
      "cell_type": "markdown",
      "id": "9efa37b3",
      "metadata": {
        "id": "9efa37b3"
      },
      "source": [
        "# Task2: Price Range Analysis\n",
        "#Determine the most common price range among all the restaurants.\n",
        "#Calculate the average rating for each price range.\n",
        "#Identify the color that represents the highest average rating among different price ranges."
      ]
    },
    {
      "cell_type": "code",
      "execution_count": null,
      "id": "fbd92ef0",
      "metadata": {
        "id": "fbd92ef0",
        "outputId": "2de1347d-cb92-47e8-9685-54cf12e27524"
      },
      "outputs": [
        {
          "data": {
            "text/plain": [
              "1"
            ]
          },
          "execution_count": 33,
          "metadata": {},
          "output_type": "execute_result"
        }
      ],
      "source": [
        "common_price_range = df['Price range'].mode()[0]\n",
        "common_price_range"
      ]
    },
    {
      "cell_type": "code",
      "execution_count": null,
      "id": "26547290",
      "metadata": {
        "id": "26547290"
      },
      "outputs": [],
      "source": [
        "#The most common price range is 1"
      ]
    },
    {
      "cell_type": "code",
      "execution_count": null,
      "id": "6ca3ca1e",
      "metadata": {
        "id": "6ca3ca1e"
      },
      "outputs": [],
      "source": [
        "#Calculate the average rating for each price range.\n"
      ]
    },
    {
      "cell_type": "code",
      "execution_count": null,
      "id": "3b3b6190",
      "metadata": {
        "id": "3b3b6190",
        "outputId": "e6b1df58-02b1-43e9-f90e-be29f488677c"
      },
      "outputs": [
        {
          "data": {
            "text/plain": [
              "Price range\n",
              "1    1.999887\n",
              "2    2.941054\n",
              "3    3.683381\n",
              "4    3.817918\n",
              "Name: Aggregate rating, dtype: float64"
            ]
          },
          "execution_count": 36,
          "metadata": {},
          "output_type": "execute_result"
        }
      ],
      "source": [
        "average = df.groupby('Price range')['Aggregate rating'].mean()\n",
        "average"
      ]
    },
    {
      "cell_type": "code",
      "execution_count": null,
      "id": "1f3e569e",
      "metadata": {
        "id": "1f3e569e"
      },
      "outputs": [],
      "source": [
        "#average rating for each price range determined above\n"
      ]
    },
    {
      "cell_type": "code",
      "execution_count": null,
      "id": "ae23ea08",
      "metadata": {
        "id": "ae23ea08"
      },
      "outputs": [],
      "source": [
        "#Identify the color that represents the highest average rating among different price ranges."
      ]
    },
    {
      "cell_type": "code",
      "execution_count": null,
      "id": "f8531783",
      "metadata": {
        "id": "f8531783",
        "outputId": "26058a3e-2cd3-4f2d-c216-6bbd95416c2e"
      },
      "outputs": [
        {
          "data": {
            "text/plain": [
              "4"
            ]
          },
          "execution_count": 39,
          "metadata": {},
          "output_type": "execute_result"
        }
      ],
      "source": [
        "color_highest_mean=df.groupby('Price range')['Aggregate rating'].mean().idxmax()\n",
        "color_highest_mean"
      ]
    },
    {
      "cell_type": "code",
      "execution_count": null,
      "id": "6371e205",
      "metadata": {
        "id": "6371e205"
      },
      "outputs": [],
      "source": [
        "#The highest color average rating is 4"
      ]
    },
    {
      "cell_type": "markdown",
      "id": "2098f694",
      "metadata": {
        "id": "2098f694"
      },
      "source": [
        "# Task3: Feature Engineering\n",
        "#Extract additional features from the existing columns, such as the length of the restaurant name or address.\n",
        "#Create new features like \"Has Table Booking\" or \"Has Online Delivery\" by encoding categorical variables."
      ]
    },
    {
      "cell_type": "code",
      "execution_count": null,
      "id": "aa267f43",
      "metadata": {
        "id": "aa267f43"
      },
      "outputs": [],
      "source": [
        "#length of the restaurant name or address"
      ]
    },
    {
      "cell_type": "code",
      "execution_count": null,
      "id": "807c2b41",
      "metadata": {
        "id": "807c2b41",
        "outputId": "12e25f02-faa3-4be3-95c0-84ca45915440"
      },
      "outputs": [
        {
          "data": {
            "text/plain": [
              "0    16\n",
              "1    16\n",
              "2    22\n",
              "3     4\n",
              "4    11\n",
              "Name: Restaurant Name Length, dtype: int64"
            ]
          },
          "execution_count": 42,
          "metadata": {},
          "output_type": "execute_result"
        }
      ],
      "source": [
        "df['Restaurant Name Length']=df['Restaurant Name'].apply(len)\n",
        "df['Restaurant Name Length'].head()"
      ]
    },
    {
      "cell_type": "code",
      "execution_count": null,
      "id": "d1fd5523",
      "metadata": {
        "id": "d1fd5523",
        "outputId": "01e8e721-5b15-4ed1-bf23-ff334e4b9bfc"
      },
      "outputs": [
        {
          "data": {
            "text/plain": [
              "0    71\n",
              "1    67\n",
              "2    56\n",
              "3    70\n",
              "4    64\n",
              "Name: Address Length, dtype: int64"
            ]
          },
          "execution_count": 43,
          "metadata": {},
          "output_type": "execute_result"
        }
      ],
      "source": [
        "df['Address Length']=df['Address'].apply(len)\n",
        "df['Address Length'].head()"
      ]
    },
    {
      "cell_type": "code",
      "execution_count": null,
      "id": "c2864865",
      "metadata": {
        "id": "c2864865"
      },
      "outputs": [],
      "source": [
        "#validation"
      ]
    },
    {
      "cell_type": "code",
      "execution_count": null,
      "id": "cbd6bd6d",
      "metadata": {
        "id": "cbd6bd6d",
        "outputId": "5f70a9d0-822a-4772-a6f5-4b12e86c4392"
      },
      "outputs": [
        {
          "data": {
            "text/html": [
              "<div>\n",
              "<style scoped>\n",
              "    .dataframe tbody tr th:only-of-type {\n",
              "        vertical-align: middle;\n",
              "    }\n",
              "\n",
              "    .dataframe tbody tr th {\n",
              "        vertical-align: top;\n",
              "    }\n",
              "\n",
              "    .dataframe thead th {\n",
              "        text-align: right;\n",
              "    }\n",
              "</style>\n",
              "<table border=\"1\" class=\"dataframe\">\n",
              "  <thead>\n",
              "    <tr style=\"text-align: right;\">\n",
              "      <th></th>\n",
              "      <th>Restaurant Name Length</th>\n",
              "      <th>Address Length</th>\n",
              "    </tr>\n",
              "  </thead>\n",
              "  <tbody>\n",
              "    <tr>\n",
              "      <th>0</th>\n",
              "      <td>16</td>\n",
              "      <td>71</td>\n",
              "    </tr>\n",
              "    <tr>\n",
              "      <th>1</th>\n",
              "      <td>16</td>\n",
              "      <td>67</td>\n",
              "    </tr>\n",
              "    <tr>\n",
              "      <th>2</th>\n",
              "      <td>22</td>\n",
              "      <td>56</td>\n",
              "    </tr>\n",
              "    <tr>\n",
              "      <th>3</th>\n",
              "      <td>4</td>\n",
              "      <td>70</td>\n",
              "    </tr>\n",
              "    <tr>\n",
              "      <th>4</th>\n",
              "      <td>11</td>\n",
              "      <td>64</td>\n",
              "    </tr>\n",
              "  </tbody>\n",
              "</table>\n",
              "</div>"
            ],
            "text/plain": [
              "   Restaurant Name Length  Address Length\n",
              "0                      16              71\n",
              "1                      16              67\n",
              "2                      22              56\n",
              "3                       4              70\n",
              "4                      11              64"
            ]
          },
          "execution_count": 45,
          "metadata": {},
          "output_type": "execute_result"
        }
      ],
      "source": [
        "df.iloc[:,-2:].head()"
      ]
    },
    {
      "cell_type": "code",
      "execution_count": null,
      "id": "0e45a6ed",
      "metadata": {
        "id": "0e45a6ed"
      },
      "outputs": [],
      "source": [
        "#Create new features like \"Has Table Booking\" or \"Has Online Delivery\" by encoding categorical variables."
      ]
    },
    {
      "cell_type": "code",
      "execution_count": null,
      "id": "65271f99",
      "metadata": {
        "id": "65271f99"
      },
      "outputs": [],
      "source": [
        "df['Has Table booking'] = df['Has Table booking'].replace({'Yes': 1, 'No': 0})\n",
        "df['Has Online delivery'] = df['Has Online delivery'].replace({'Yes': 1, 'No': 0})"
      ]
    },
    {
      "cell_type": "code",
      "execution_count": null,
      "id": "8f5bf0d8",
      "metadata": {
        "id": "8f5bf0d8"
      },
      "outputs": [],
      "source": [
        "#validation"
      ]
    },
    {
      "cell_type": "code",
      "execution_count": null,
      "id": "85994a7f",
      "metadata": {
        "id": "85994a7f",
        "outputId": "11842cdb-51bd-479c-d258-063c5b77a53d"
      },
      "outputs": [
        {
          "data": {
            "text/plain": [
              "0    1\n",
              "1    1\n",
              "2    1\n",
              "3    0\n",
              "4    1\n",
              "Name: Has Table booking, dtype: int64"
            ]
          },
          "execution_count": 49,
          "metadata": {},
          "output_type": "execute_result"
        }
      ],
      "source": [
        "df['Has Table booking'].head()\n"
      ]
    },
    {
      "cell_type": "code",
      "execution_count": null,
      "id": "0539ab87",
      "metadata": {
        "id": "0539ab87",
        "outputId": "84dba4f2-83b9-4c40-8957-ef7ea23843c9"
      },
      "outputs": [
        {
          "data": {
            "text/plain": [
              "0    7100\n",
              "1    2451\n",
              "Name: Has Online delivery, dtype: int64"
            ]
          },
          "execution_count": 50,
          "metadata": {},
          "output_type": "execute_result"
        }
      ],
      "source": [
        "df['Has Online delivery'].value_counts()"
      ]
    },
    {
      "cell_type": "code",
      "execution_count": null,
      "id": "dc939d18",
      "metadata": {
        "id": "dc939d18"
      },
      "outputs": [],
      "source": []
    }
  ],
  "metadata": {
    "kernelspec": {
      "display_name": "Python 3 (ipykernel)",
      "language": "python",
      "name": "python3"
    },
    "language_info": {
      "codemirror_mode": {
        "name": "ipython",
        "version": 3
      },
      "file_extension": ".py",
      "mimetype": "text/x-python",
      "name": "python",
      "nbconvert_exporter": "python",
      "pygments_lexer": "ipython3",
      "version": "3.9.12"
    },
    "colab": {
      "provenance": [],
      "include_colab_link": true
    }
  },
  "nbformat": 4,
  "nbformat_minor": 5
}